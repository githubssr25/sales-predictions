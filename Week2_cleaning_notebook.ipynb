{
  "nbformat": 4,
  "nbformat_minor": 0,
  "metadata": {
    "colab": {
      "name": "Week2 cleaning notebook.ipynb",
      "provenance": [],
      "collapsed_sections": []
    },
    "kernelspec": {
      "name": "python3",
      "display_name": "Python 3"
    },
    "language_info": {
      "name": "python"
    }
  },
  "cells": [
    {
      "cell_type": "code",
      "metadata": {
        "id": "s0vNpknUt5Bu"
      },
      "source": [
        "import pandas as pd\n",
        "\n",
        "filename = '/content/sales_predictions (3).csv'\n",
        "\n",
        "df = pd.read_csv(filename)\n",
        "df.head()"
      ],
      "execution_count": null,
      "outputs": []
    },
    {
      "cell_type": "code",
      "metadata": {
        "id": "QF-4ASvL3b7E"
      },
      "source": [
        "len(df)\n",
        "\n",
        "len(df.columns)"
      ],
      "execution_count": null,
      "outputs": []
    },
    {
      "cell_type": "code",
      "metadata": {
        "id": "EKh7y18L3eGW"
      },
      "source": [
        "df.dtypes"
      ],
      "execution_count": null,
      "outputs": []
    },
    {
      "cell_type": "code",
      "metadata": {
        "id": "Y9ppxdq73gtZ"
      },
      "source": [
        "df.duplicated()"
      ],
      "execution_count": null,
      "outputs": []
    },
    {
      "cell_type": "code",
      "metadata": {
        "id": "G7MfmtaV3jU2"
      },
      "source": [
        "df.drop_duplicates()"
      ],
      "execution_count": null,
      "outputs": []
    },
    {
      "cell_type": "code",
      "metadata": {
        "id": "YTaNdCpj3l0f"
      },
      "source": [
        "df.isnull()\n",
        "\n",
        "df.isnull().sum()\n"
      ],
      "execution_count": null,
      "outputs": []
    },
    {
      "cell_type": "code",
      "metadata": {
        "id": "9CvQ6UN83nxB"
      },
      "source": [
        "filtering_data_size_1 = df['Outlet_Location_Type'] == 'Tier 1'\n",
        "\n",
        "filtering_data_size_2 = df['Outlet_Location_Type'] == 'Tier 2'\n",
        "\n",
        "filtering_data_size_3 = df['Outlet_Location_Type'] == 'Tier 3'\n",
        "\n",
        "outlet_size = df['Outlet_Size']\n",
        "\n",
        "df.loc[filtering_data_size_1 & (df['Outlet_Size'].isna()), 'Outlet_Size'] = 'Small'\n",
        "\n",
        "df.loc[filtering_data_size_2 & (df['Outlet_Size'].isna()), 'Outlet_Size'] = 'Medium'\n",
        "\n",
        "df.loc[filtering_data_size_3 & (df['Outlet_Size'].isna()), 'Outlet_Size'] = 'Large'\n",
        "\n",
        "df.isnull().sum()"
      ],
      "execution_count": null,
      "outputs": []
    },
    {
      "cell_type": "code",
      "metadata": {
        "id": "Hi7Fut-X3rdr"
      },
      "source": [
        "df5 = df.loc[filtering_data_size_1 & outlet_size,:]\n",
        "\n",
        "replacement_1 = df5.fillna('Small', inplace= True)\n",
        "\n",
        "replacement_1\n",
        "\n",
        "# note the goal here is to say that for any value in outlet size that was NA and also had the column value tier 1 for outlet location type, \n",
        "# I decided to give such data an outlet_size of small because it corresponds accordingly with tier 1. Same with outlet location type tier 2 \n",
        "# and outlet size medium as well as outlet location tier 3 and outlet size large "
      ],
      "execution_count": null,
      "outputs": []
    },
    {
      "cell_type": "code",
      "metadata": {
        "id": "yzOc463V3tmh"
      },
      "source": [
        "df_item_identifier = df['Item_Identifier'].value_counts()\n",
        "\n",
        "df_weight = df['Item_Weight'].value_counts()\n",
        "\n",
        "df_fat_content = df['Item_Fat_Content'].value_counts()\n",
        "\n",
        "df_visibility = df['Item_Visibility'].value_counts()\n",
        "\n",
        "df_type = df['Item_Type'].value_counts()\n",
        "\n",
        "df_MRP = df['Item_MRP'].value_counts()\n",
        "\n",
        "df_outlet_identifier = df['Outlet_Identifier'].value_counts()\n",
        "\n",
        "df_establishment_year = df['Outlet_Establishment_Year'].value_counts()\n",
        "\n",
        "df_outlet_size = df['Outlet_Size'].value_counts()\n",
        "\n",
        "df_location_type = df['Outlet_Location_Type'].value_counts()\n",
        "\n",
        "df_outlet_type = df['Outlet_Type'].value_counts()\n",
        "\n",
        "df_item_outlet_sales = df['Item_Outlet_Sales'].value_counts()\n",
        "\n",
        "\n",
        "df_item_identifier\n",
        "\n",
        "df_weight\n",
        "\n",
        "df_fat_content\n",
        "\n",
        "df_visibility\n",
        "\n",
        "df_type\n",
        "\n",
        "df_MRP\n",
        "\n",
        "df_outlet_identifier\n",
        "\n",
        "df_establishment_year\n",
        "\n",
        "df_outlet_size\n",
        "\n",
        "df_location_type\n",
        "\n",
        "df_outlet_type\n",
        "\n",
        "df_item_outlet_sales\n",
        "\n",
        "\n"
      ],
      "execution_count": null,
      "outputs": []
    },
    {
      "cell_type": "code",
      "metadata": {
        "id": "0fW9Ckzj3w2V"
      },
      "source": [
        "df_item_outlet_sales"
      ],
      "execution_count": null,
      "outputs": []
    },
    {
      "cell_type": "code",
      "metadata": {
        "id": "Qba27IJ332s2"
      },
      "source": [
        ""
      ],
      "execution_count": null,
      "outputs": []
    }
  ]
}